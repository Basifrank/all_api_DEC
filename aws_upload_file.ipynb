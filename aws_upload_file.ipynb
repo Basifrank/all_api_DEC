{
 "cells": [
  {
   "cell_type": "code",
   "execution_count": 7,
   "metadata": {},
   "outputs": [
    {
     "name": "stdout",
     "output_type": "stream",
     "text": [
      "Senior Roles:  ['Senior Content Marketing Manager', 'Senior Digital Acquisition Strategist']\n",
      "Manager Roles:  ['Growth Manager', 'Senior Content Marketing Manager', 'Manager, Digital Marketing']\n"
     ]
    }
   ],
   "source": [
    "import awswrangler as wr\n",
    "import boto3\n",
    "import os\n",
    "import pathlib\n",
    "import task1"
   ]
  },
  {
   "cell_type": "code",
   "execution_count": 2,
   "metadata": {},
   "outputs": [],
   "source": [
    "first_py_file = os.path.join(pathlib.Path(\"__file__\").parent.resolve(), \"task1.py\")"
   ]
  },
  {
   "cell_type": "code",
   "execution_count": null,
   "metadata": {},
   "outputs": [],
   "source": [
    "first_py_file2 = task1.__file__\n",
    " "
   ]
  },
  {
   "cell_type": "code",
   "execution_count": 9,
   "metadata": {},
   "outputs": [
    {
     "name": "stdout",
     "output_type": "stream",
     "text": [
      "/home/basifrank/data_engineering_training/python_training/DEC_API_Connect_Exercise/task1.py\n"
     ]
    }
   ],
   "source": [
    "print(first_py_file2)"
   ]
  },
  {
   "cell_type": "code",
   "execution_count": 13,
   "metadata": {},
   "outputs": [],
   "source": [
    "raw_s3_bucket = \"chigozieobasi\"\n",
    "raw_path_dir = \"randomuser_api\"\n",
    "first_py = \"first_py\"\n",
    "write_path = f\"s3://{raw_s3_bucket}/{raw_path_dir}/{first_py}/\""
   ]
  },
  {
   "cell_type": "code",
   "execution_count": 14,
   "metadata": {},
   "outputs": [],
   "source": [
    "wr.s3.upload(local_file=first_py_file2, path=write_path + 'task1.py', boto3_session=boto3.Session()) "
   ]
  },
  {
   "cell_type": "code",
   "execution_count": null,
   "metadata": {},
   "outputs": [],
   "source": [
    " "
   ]
  },
  {
   "cell_type": "markdown",
   "metadata": {},
   "source": [
    "## Second File"
   ]
  },
  {
   "cell_type": "code",
   "execution_count": 16,
   "metadata": {},
   "outputs": [
    {
     "name": "stdout",
     "output_type": "stream",
     "text": [
      "/home/basifrank/data_engineering_training/python_training/DEC_API_Connect_Exercise/task2.py\n"
     ]
    }
   ],
   "source": [
    "second_py_file = os.path.join(pathlib.Path(\"__file__\").parent.resolve(), \"task2.py\")\n",
    "print(second_py_file)"
   ]
  },
  {
   "cell_type": "code",
   "execution_count": 18,
   "metadata": {},
   "outputs": [],
   "source": [
    "raw_s3_bucket = \"chigozieobasi\"\n",
    "raw_path_dir = \"randomuser_api\"\n",
    "second_py = \"second_py\"\n",
    "write_path = f\"s3://{raw_s3_bucket}/{raw_path_dir}/{second_py}/\""
   ]
  },
  {
   "cell_type": "code",
   "execution_count": 19,
   "metadata": {},
   "outputs": [],
   "source": [
    "wr.s3.upload(local_file=first_py_file2, path=write_path + 'task2.py', boto3_session=boto3.Session()) "
   ]
  },
  {
   "cell_type": "code",
   "execution_count": null,
   "metadata": {},
   "outputs": [],
   "source": []
  },
  {
   "cell_type": "markdown",
   "metadata": {},
   "source": [
    "## Third File"
   ]
  },
  {
   "cell_type": "markdown",
   "metadata": {},
   "source": []
  },
  {
   "cell_type": "code",
   "execution_count": 20,
   "metadata": {},
   "outputs": [
    {
     "name": "stdout",
     "output_type": "stream",
     "text": [
      "/home/basifrank/data_engineering_training/python_training/DEC_API_Connect_Exercise/task3.py\n"
     ]
    }
   ],
   "source": [
    "third_py_file = os.path.join(pathlib.Path(\"__file__\").parent.resolve(), \"task3.py\")\n",
    "print(third_py_file)"
   ]
  },
  {
   "cell_type": "code",
   "execution_count": 21,
   "metadata": {},
   "outputs": [],
   "source": [
    "raw_s3_bucket = \"chigozieobasi\"\n",
    "raw_path_dir = \"randomuser_api\"\n",
    "third_py = \"third_py\"\n",
    "write_path = f\"s3://{raw_s3_bucket}/{raw_path_dir}/{third_py}/\""
   ]
  },
  {
   "cell_type": "code",
   "execution_count": 22,
   "metadata": {},
   "outputs": [],
   "source": [
    "wr.s3.upload(local_file=first_py_file2, path=write_path + 'task3.py', boto3_session=boto3.Session()) "
   ]
  },
  {
   "cell_type": "code",
   "execution_count": null,
   "metadata": {},
   "outputs": [],
   "source": []
  },
  {
   "cell_type": "code",
   "execution_count": null,
   "metadata": {},
   "outputs": [],
   "source": []
  }
 ],
 "metadata": {
  "kernelspec": {
   "display_name": "data_eng",
   "language": "python",
   "name": "python3"
  },
  "language_info": {
   "codemirror_mode": {
    "name": "ipython",
    "version": 3
   },
   "file_extension": ".py",
   "mimetype": "text/x-python",
   "name": "python",
   "nbconvert_exporter": "python",
   "pygments_lexer": "ipython3",
   "version": "3.12.3"
  }
 },
 "nbformat": 4,
 "nbformat_minor": 2
}
