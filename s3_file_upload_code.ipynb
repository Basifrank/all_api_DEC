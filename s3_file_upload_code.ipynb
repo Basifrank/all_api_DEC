{
 "cells": [
  {
   "cell_type": "code",
   "execution_count": 35,
   "metadata": {},
   "outputs": [],
   "source": [
    "import awswrangler as wr\n",
    "import boto3\n",
    "import os\n",
    "import pathlib\n",
    "import pandas as pd"
   ]
  },
  {
   "cell_type": "code",
   "execution_count": null,
   "metadata": {},
   "outputs": [],
   "source": [
    "\n",
    "\n",
    "updated_MarApr = pd.read_csv(\"updated_data_MarApr.csv\")"
   ]
  },
  {
   "cell_type": "code",
   "execution_count": 40,
   "metadata": {},
   "outputs": [],
   "source": [
    "raw_s3_bucket = \"chigozieobasi\"\n",
    "raw_path_dir = \"guardian_api\"\n",
    "csv_path = \"updated_MarApr_CSV\"\n",
    "write_path = f\"s3://{raw_s3_bucket}/{raw_path_dir}/{csv_path}\""
   ]
  },
  {
   "cell_type": "code",
   "execution_count": null,
   "metadata": {},
   "outputs": [],
   "source": [
    "wr.s3.to_parquet(df=updated_MarApr, path=write_path, dataset=True, mode=\"append\")\n",
    "wr.s3.to_csv(df=updated_MarApr, path=write_path, dataset=True, mode=\"append\")"
   ]
  },
  {
   "cell_type": "code",
   "execution_count": null,
   "metadata": {},
   "outputs": [],
   "source": []
  },
  {
   "cell_type": "code",
   "execution_count": null,
   "metadata": {},
   "outputs": [],
   "source": [
    "new_updated_MarApr = pd.read_csv(\"updated_data_MarApr.csv\")"
   ]
  },
  {
   "cell_type": "code",
   "execution_count": null,
   "metadata": {},
   "outputs": [],
   "source": [
    "raw_s3_bucket = \"chigozieobasi\"\n",
    "raw_path_dir = \"guardian_api\"\n",
    "csv_path = \"new_updated_MarApr\"\n",
    "write_path = f\"s3://{raw_s3_bucket}/{raw_path_dir}/{csv_path}\""
   ]
  },
  {
   "cell_type": "code",
   "execution_count": null,
   "metadata": {},
   "outputs": [
    {
     "data": {
      "text/plain": [
       "{'paths': ['s3://chigozieobasi/guardian_api/new_updated_MarApr/60ac8f2c73c64cce99929edf96891b1e.snappy.parquet'],\n",
       " 'partitions_values': {}}"
      ]
     },
     "execution_count": 39,
     "metadata": {},
     "output_type": "execute_result"
    }
   ],
   "source": [
    "wr.s3.to_parquet(df=new_updated_MarApr, path=write_path, dataset=True, mode=\"append\")\n",
    "wr.s3.to_csv(df=new_updated_MarApr, path=write_path, dataset=True, mode=\"append\")"
   ]
  },
  {
   "cell_type": "code",
   "execution_count": null,
   "metadata": {},
   "outputs": [],
   "source": []
  },
  {
   "cell_type": "code",
   "execution_count": null,
   "metadata": {},
   "outputs": [],
   "source": []
  },
  {
   "cell_type": "markdown",
   "metadata": {},
   "source": [
    "### A different approach to writing the data to S3"
   ]
  },
  {
   "cell_type": "code",
   "execution_count": 54,
   "metadata": {},
   "outputs": [
    {
     "name": "stdout",
     "output_type": "stream",
     "text": [
      "/home/basifrank/data_engineering_training/python_training/python_api_training/updated_data_MarApr.csv\n"
     ]
    }
   ],
   "source": [
    "updated_file = os.path.join(pathlib.Path(\"__file__\").parent.resolve(), \"updated_data_MarApr.csv\")\n",
    "\n",
    "print(updated_file)"
   ]
  },
  {
   "cell_type": "code",
   "execution_count": 55,
   "metadata": {},
   "outputs": [],
   "source": [
    "raw_s3_bucket = \"chigozieobasi\"\n",
    "raw_path_dir = \"guardian_api\"\n",
    "csv_path = \"new_updated_MarApr\"\n",
    "write_path = f\"s3://{raw_s3_bucket}/{raw_path_dir}/{csv_path}\""
   ]
  },
  {
   "cell_type": "code",
   "execution_count": 56,
   "metadata": {},
   "outputs": [],
   "source": [
    "wr.s3.upload(local_file=updated_file, path=write_path + \"/updated_data_MarApr.csv\", boto3_session=boto3.Session()) "
   ]
  },
  {
   "cell_type": "code",
   "execution_count": 57,
   "metadata": {},
   "outputs": [
    {
     "data": {
      "text/html": [
       "<div>\n",
       "<style scoped>\n",
       "    .dataframe tbody tr th:only-of-type {\n",
       "        vertical-align: middle;\n",
       "    }\n",
       "\n",
       "    .dataframe tbody tr th {\n",
       "        vertical-align: top;\n",
       "    }\n",
       "\n",
       "    .dataframe thead th {\n",
       "        text-align: right;\n",
       "    }\n",
       "</style>\n",
       "<table border=\"1\" class=\"dataframe\">\n",
       "  <thead>\n",
       "    <tr style=\"text-align: right;\">\n",
       "      <th></th>\n",
       "      <th>publishedDate</th>\n",
       "      <th>sectionName</th>\n",
       "      <th>webTitle</th>\n",
       "      <th>webUrl</th>\n",
       "    </tr>\n",
       "  </thead>\n",
       "  <tbody>\n",
       "    <tr>\n",
       "      <th>0</th>\n",
       "      <td>2025-03-16T09:34:27Z</td>\n",
       "      <td>World news</td>\n",
       "      <td>‘We are all Natasha’: senator’s sexual harassm...</td>\n",
       "      <td>https://www.theguardian.com/world/2025/mar/16/...</td>\n",
       "    </tr>\n",
       "    <tr>\n",
       "      <th>1</th>\n",
       "      <td>2025-04-01T07:12:06Z</td>\n",
       "      <td>World news</td>\n",
       "      <td>Niger’s junta withdraws from Lake Chad anti-Is...</td>\n",
       "      <td>https://www.theguardian.com/world/2025/apr/01/...</td>\n",
       "    </tr>\n",
       "    <tr>\n",
       "      <th>2</th>\n",
       "      <td>2025-03-08T07:00:15Z</td>\n",
       "      <td>World news</td>\n",
       "      <td>Around the world in 60 hours: Nigerian aims to...</td>\n",
       "      <td>https://www.theguardian.com/world/2025/mar/08/...</td>\n",
       "    </tr>\n",
       "    <tr>\n",
       "      <th>3</th>\n",
       "      <td>2025-03-19T12:00:56Z</td>\n",
       "      <td>Books</td>\n",
       "      <td>Where to start with: Chimamanda Ngozi Adichie</td>\n",
       "      <td>https://www.theguardian.com/books/2025/mar/19/...</td>\n",
       "    </tr>\n",
       "    <tr>\n",
       "      <th>4</th>\n",
       "      <td>2025-04-01T09:00:13Z</td>\n",
       "      <td>Global development</td>\n",
       "      <td>Snakes, ‘border madness’ and solo trips: five ...</td>\n",
       "      <td>https://www.theguardian.com/global-development...</td>\n",
       "    </tr>\n",
       "  </tbody>\n",
       "</table>\n",
       "</div>"
      ],
      "text/plain": [
       "          publishedDate         sectionName  \\\n",
       "0  2025-03-16T09:34:27Z          World news   \n",
       "1  2025-04-01T07:12:06Z          World news   \n",
       "2  2025-03-08T07:00:15Z          World news   \n",
       "3  2025-03-19T12:00:56Z               Books   \n",
       "4  2025-04-01T09:00:13Z  Global development   \n",
       "\n",
       "                                            webTitle  \\\n",
       "0  ‘We are all Natasha’: senator’s sexual harassm...   \n",
       "1  Niger’s junta withdraws from Lake Chad anti-Is...   \n",
       "2  Around the world in 60 hours: Nigerian aims to...   \n",
       "3      Where to start with: Chimamanda Ngozi Adichie   \n",
       "4  Snakes, ‘border madness’ and solo trips: five ...   \n",
       "\n",
       "                                              webUrl  \n",
       "0  https://www.theguardian.com/world/2025/mar/16/...  \n",
       "1  https://www.theguardian.com/world/2025/apr/01/...  \n",
       "2  https://www.theguardian.com/world/2025/mar/08/...  \n",
       "3  https://www.theguardian.com/books/2025/mar/19/...  \n",
       "4  https://www.theguardian.com/global-development...  "
      ]
     },
     "execution_count": 57,
     "metadata": {},
     "output_type": "execute_result"
    }
   ],
   "source": [
    "raw_df = wr.s3.read_csv(path=write_path, header=0, path_suffix=['.csv'])\n",
    "raw_df.head(5)"
   ]
  },
  {
   "cell_type": "code",
   "execution_count": 58,
   "metadata": {},
   "outputs": [
    {
     "data": {
      "text/plain": [
       "{'paths': ['s3://chigozieobasi/guardian_api/new_updated_MarApr/27a2ef5400b14230a7bdde7852bcbc97.snappy.parquet'],\n",
       " 'partitions_values': {}}"
      ]
     },
     "execution_count": 58,
     "metadata": {},
     "output_type": "execute_result"
    }
   ],
   "source": [
    "# Convert to Parquet\n",
    "wr.s3.to_parquet(df=raw_df, path=write_path, dataset=True, mode=\"append\")"
   ]
  },
  {
   "cell_type": "code",
   "execution_count": 59,
   "metadata": {},
   "outputs": [
    {
     "data": {
      "text/html": [
       "<div>\n",
       "<style scoped>\n",
       "    .dataframe tbody tr th:only-of-type {\n",
       "        vertical-align: middle;\n",
       "    }\n",
       "\n",
       "    .dataframe tbody tr th {\n",
       "        vertical-align: top;\n",
       "    }\n",
       "\n",
       "    .dataframe thead th {\n",
       "        text-align: right;\n",
       "    }\n",
       "</style>\n",
       "<table border=\"1\" class=\"dataframe\">\n",
       "  <thead>\n",
       "    <tr style=\"text-align: right;\">\n",
       "      <th></th>\n",
       "      <th>publishedDate</th>\n",
       "      <th>sectionName</th>\n",
       "      <th>webTitle</th>\n",
       "      <th>webUrl</th>\n",
       "    </tr>\n",
       "  </thead>\n",
       "  <tbody>\n",
       "    <tr>\n",
       "      <th>0</th>\n",
       "      <td>2025-03-16T09:34:27Z</td>\n",
       "      <td>World news</td>\n",
       "      <td>‘We are all Natasha’: senator’s sexual harassm...</td>\n",
       "      <td>https://www.theguardian.com/world/2025/mar/16/...</td>\n",
       "    </tr>\n",
       "    <tr>\n",
       "      <th>1</th>\n",
       "      <td>2025-04-01T07:12:06Z</td>\n",
       "      <td>World news</td>\n",
       "      <td>Niger’s junta withdraws from Lake Chad anti-Is...</td>\n",
       "      <td>https://www.theguardian.com/world/2025/apr/01/...</td>\n",
       "    </tr>\n",
       "    <tr>\n",
       "      <th>2</th>\n",
       "      <td>2025-03-08T07:00:15Z</td>\n",
       "      <td>World news</td>\n",
       "      <td>Around the world in 60 hours: Nigerian aims to...</td>\n",
       "      <td>https://www.theguardian.com/world/2025/mar/08/...</td>\n",
       "    </tr>\n",
       "    <tr>\n",
       "      <th>3</th>\n",
       "      <td>2025-03-19T12:00:56Z</td>\n",
       "      <td>Books</td>\n",
       "      <td>Where to start with: Chimamanda Ngozi Adichie</td>\n",
       "      <td>https://www.theguardian.com/books/2025/mar/19/...</td>\n",
       "    </tr>\n",
       "    <tr>\n",
       "      <th>4</th>\n",
       "      <td>2025-04-01T09:00:13Z</td>\n",
       "      <td>Global development</td>\n",
       "      <td>Snakes, ‘border madness’ and solo trips: five ...</td>\n",
       "      <td>https://www.theguardian.com/global-development...</td>\n",
       "    </tr>\n",
       "  </tbody>\n",
       "</table>\n",
       "</div>"
      ],
      "text/plain": [
       "          publishedDate         sectionName  \\\n",
       "0  2025-03-16T09:34:27Z          World news   \n",
       "1  2025-04-01T07:12:06Z          World news   \n",
       "2  2025-03-08T07:00:15Z          World news   \n",
       "3  2025-03-19T12:00:56Z               Books   \n",
       "4  2025-04-01T09:00:13Z  Global development   \n",
       "\n",
       "                                            webTitle  \\\n",
       "0  ‘We are all Natasha’: senator’s sexual harassm...   \n",
       "1  Niger’s junta withdraws from Lake Chad anti-Is...   \n",
       "2  Around the world in 60 hours: Nigerian aims to...   \n",
       "3      Where to start with: Chimamanda Ngozi Adichie   \n",
       "4  Snakes, ‘border madness’ and solo trips: five ...   \n",
       "\n",
       "                                              webUrl  \n",
       "0  https://www.theguardian.com/world/2025/mar/16/...  \n",
       "1  https://www.theguardian.com/world/2025/apr/01/...  \n",
       "2  https://www.theguardian.com/world/2025/mar/08/...  \n",
       "3  https://www.theguardian.com/books/2025/mar/19/...  \n",
       "4  https://www.theguardian.com/global-development...  "
      ]
     },
     "execution_count": 59,
     "metadata": {},
     "output_type": "execute_result"
    }
   ],
   "source": [
    "# Read back the Parquet file\n",
    "df = wr.s3.read_parquet(path=write_path, path_suffix=['.parquet'])\n",
    "df.head(5)"
   ]
  },
  {
   "cell_type": "code",
   "execution_count": null,
   "metadata": {},
   "outputs": [],
   "source": []
  },
  {
   "cell_type": "code",
   "execution_count": null,
   "metadata": {},
   "outputs": [],
   "source": []
  },
  {
   "cell_type": "markdown",
   "metadata": {},
   "source": [
    "### Uploading Python File"
   ]
  },
  {
   "cell_type": "code",
   "execution_count": 60,
   "metadata": {},
   "outputs": [
    {
     "name": "stdout",
     "output_type": "stream",
     "text": [
      "/home/basifrank/data_engineering_training/python_training/python_api_training/guardian_apirequests.py\n"
     ]
    }
   ],
   "source": [
    "py_request_code = os.path.join(pathlib.Path(\"__file__\").parent.resolve(), \"guardian_apirequests.py\")\n",
    "print(py_request_code)"
   ]
  },
  {
   "cell_type": "code",
   "execution_count": 61,
   "metadata": {},
   "outputs": [],
   "source": [
    "raw_s3_bucket = \"chigozieobasi\"\n",
    "raw_path_dir = \"guardian_api\"\n",
    "csv_path = \"py_request_code\"\n",
    "write_path = f\"s3://{raw_s3_bucket}/{raw_path_dir}/{csv_path}\""
   ]
  },
  {
   "cell_type": "code",
   "execution_count": 62,
   "metadata": {},
   "outputs": [],
   "source": [
    "wr.s3.upload(local_file=py_request_code, path=write_path + \"/guardian_apirequests.py\", boto3_session=boto3.Session()) "
   ]
  },
  {
   "cell_type": "code",
   "execution_count": null,
   "metadata": {},
   "outputs": [],
   "source": []
  }
 ],
 "metadata": {
  "kernelspec": {
   "display_name": "data_eng",
   "language": "python",
   "name": "python3"
  },
  "language_info": {
   "codemirror_mode": {
    "name": "ipython",
    "version": 3
   },
   "file_extension": ".py",
   "mimetype": "text/x-python",
   "name": "python",
   "nbconvert_exporter": "python",
   "pygments_lexer": "ipython3",
   "version": "3.12.3"
  }
 },
 "nbformat": 4,
 "nbformat_minor": 2
}
