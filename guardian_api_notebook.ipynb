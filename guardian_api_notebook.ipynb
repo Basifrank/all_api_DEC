{
 "cells": [
  {
   "cell_type": "code",
   "execution_count": 2,
   "metadata": {},
   "outputs": [],
   "source": [
    "import os\n",
    "import requests\n",
    "import pandas as pd\n"
   ]
  },
  {
   "cell_type": "code",
   "execution_count": 1,
   "metadata": {},
   "outputs": [],
   "source": [
    "from dotenv import load_dotenv, dotenv_values\n",
    "import awswrangler as wr"
   ]
  },
  {
   "cell_type": "code",
   "execution_count": 2,
   "metadata": {},
   "outputs": [
    {
     "data": {
      "text/plain": [
       "True"
      ]
     },
     "execution_count": 2,
     "metadata": {},
     "output_type": "execute_result"
    }
   ],
   "source": [
    "load_dotenv()"
   ]
  },
  {
   "cell_type": "code",
   "execution_count": null,
   "metadata": {},
   "outputs": [],
   "source": [
    "#load environment variables using  os.\n",
    "\n",
    "baseurl = \"https://content.guardianapis.com/search\"\n",
    "api_key = os.getenv(\"GUARDIAN_API_KEY\")\n",
    "from_date = \"2025-03-01\"\n",
    "to_date = \"2025-04-01\"\n",
    "country = \"Nigeria\""
   ]
  },
  {
   "cell_type": "code",
   "execution_count": 3,
   "metadata": {},
   "outputs": [],
   "source": [
    "def main_request(baseurl, from_date, to_date, x, country, api_key):\n",
    "    \n",
    "    r = requests.get(\"{}?from-date={}&to-date={}&page={}&q={}&api-key={}\".format(baseurl, from_date, to_date, x, country, api_key))\n",
    "\n",
    "    return r.json() \n"
   ]
  },
  {
   "cell_type": "code",
   "execution_count": 7,
   "metadata": {},
   "outputs": [],
   "source": [
    "\n",
    "def get_pages(data_page):\n",
    "    return data_page[\"response\"][\"pages\"]\n"
   ]
  },
  {
   "cell_type": "code",
   "execution_count": 10,
   "metadata": {},
   "outputs": [],
   "source": [
    "\n",
    "def parse_json(data_response):\n",
    "    charlist = []\n",
    "    for item in data_response[\"response\"][\"results\"]:\n",
    "        char = {\n",
    "            \"publishedDate\" : item[\"webPublicationDate\"],\n",
    "            \"webTitle\" : item[\"webTitle\"],\n",
    "            \"webUrl\" : item[\"webUrl\"],\n",
    "            }\n",
    "        charlist.append(char)\n",
    "    return charlist\n"
   ]
  },
  {
   "cell_type": "code",
   "execution_count": 14,
   "metadata": {},
   "outputs": [],
   "source": [
    "\n",
    "mainlist = []"
   ]
  },
  {
   "cell_type": "code",
   "execution_count": 16,
   "metadata": {},
   "outputs": [],
   "source": [
    "\n",
    "\n",
    "for x in range(1, get_pages(data)+1):\n",
    "    mainlist.extend(parse_json(main_request(baseurl, from_date, to_date, 1, country, api_key)))\n",
    "\n",
    "\n"
   ]
  },
  {
   "cell_type": "code",
   "execution_count": null,
   "metadata": {},
   "outputs": [],
   "source": [
    "df = pd.DataFrame(mainlist)\n"
   ]
  },
  {
   "cell_type": "code",
   "execution_count": null,
   "metadata": {},
   "outputs": [],
   "source": [
    "df.to_csv(\"updated_data.csv\", index=False)\n"
   ]
  },
  {
   "cell_type": "code",
   "execution_count": null,
   "metadata": {},
   "outputs": [],
   "source": []
  }
 ],
 "metadata": {
  "kernelspec": {
   "display_name": "data_eng",
   "language": "python",
   "name": "python3"
  },
  "language_info": {
   "codemirror_mode": {
    "name": "ipython",
    "version": 3
   },
   "file_extension": ".py",
   "mimetype": "text/x-python",
   "name": "python",
   "nbconvert_exporter": "python",
   "pygments_lexer": "ipython3",
   "version": "3.12.3"
  }
 },
 "nbformat": 4,
 "nbformat_minor": 2
}
